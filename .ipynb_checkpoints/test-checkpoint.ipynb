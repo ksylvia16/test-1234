{
 "cells": [
  {
   "cell_type": "code",
   "execution_count": 1,
   "id": "1de9e8ca-a679-4e18-85f8-8ceae77f6588",
   "metadata": {},
   "outputs": [
    {
     "name": "stdout",
     "output_type": "stream",
     "text": [
      "Hi my name is Katie!\n"
     ]
    }
   ],
   "source": [
    "print(\"Hi my name is Katie!\")"
   ]
  },
  {
   "cell_type": "code",
   "execution_count": 5,
   "id": "9a49e57a-3493-4574-b772-e59dd2133f85",
   "metadata": {},
   "outputs": [
    {
     "name": "stdout",
     "output_type": "stream",
     "text": [
      "17\n"
     ]
    }
   ],
   "source": [
    "print(5 + 12)"
   ]
  },
  {
   "cell_type": "code",
   "execution_count": null,
   "id": "2c6321c8-def1-4068-a053-85feb093d183",
   "metadata": {},
   "outputs": [],
   "source": []
  }
 ],
 "metadata": {
  "kernelspec": {
   "display_name": "Python 3 (ipykernel)",
   "language": "python",
   "name": "python3"
  },
  "language_info": {
   "codemirror_mode": {
    "name": "ipython",
    "version": 3
   },
   "file_extension": ".py",
   "mimetype": "text/x-python",
   "name": "python",
   "nbconvert_exporter": "python",
   "pygments_lexer": "ipython3",
   "version": "3.11.7"
  }
 },
 "nbformat": 4,
 "nbformat_minor": 5
}
