print("Hi my name is Katie!")


print(5 + 12)



